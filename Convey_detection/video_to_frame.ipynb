{
 "cells": [
  {
   "cell_type": "code",
   "execution_count": 10,
   "metadata": {},
   "outputs": [
    {
     "name": "stdout",
     "output_type": "stream",
     "text": [
      "บันทึกภาพสำเร็จ 601 เฟรม ลงใน 'Dataset_convey1'\n"
     ]
    }
   ],
   "source": [
    "import cv2\n",
    "import os\n",
    "\n",
    "# ==== ตั้งค่า ====\n",
    "video_path = 'video_convey.mp4'       # path ของวิดีโอ\n",
    "output_dir = 'Dataset_convey1'        # โฟลเดอร์สำหรับเก็บภาพ\n",
    "frame_interval = 15             # เก็บทุกกี่เฟรม (1 = ทุกเฟรม, 10 = ทุก 10 เฟรม)\n",
    "\n",
    "# ==== สร้างโฟลเดอร์ (ถ้ายังไม่มี) ====\n",
    "os.makedirs(output_dir, exist_ok=True)\n",
    "\n",
    "# ==== โหลดวิดีโอ ====\n",
    "cap = cv2.VideoCapture(video_path)\n",
    "frame_count = 0\n",
    "saved_count = 0\n",
    "\n",
    "while cap.isOpened():\n",
    "    ret, frame = cap.read()\n",
    "    if not ret:\n",
    "        break\n",
    "\n",
    "    if frame_count % frame_interval == 0:\n",
    "        filename = os.path.join(output_dir, f\"img_{saved_count:05}.jpg\")\n",
    "        cv2.imwrite(filename, frame)\n",
    "        saved_count += 1\n",
    "\n",
    "    frame_count += 1\n",
    "cap.release()\n",
    "print(f\"บันทึกภาพสำเร็จ {saved_count} เฟรม ลงใน '{output_dir}'\")"
   ]
  },
  {
   "cell_type": "code",
   "execution_count": 11,
   "metadata": {},
   "outputs": [
    {
     "name": "stdout",
     "output_type": "stream",
     "text": [
      "📁 แบ่งชุดข้อมูลเสร็จแล้ว:\n",
      "- train: 480 ภาพ\n",
      "- val: 60 ภาพ\n",
      "- test: 60 ภาพ\n"
     ]
    }
   ],
   "source": [
    "import os\n",
    "import shutil\n",
    "\n",
    "# Source directory containing all images\n",
    "input_dir = 'Dataset_convey1'\n",
    "\n",
    "# Get all jpg files and sort them (likely by frame number)\n",
    "all_images = sorted([f for f in os.listdir(input_dir) if f.endswith('.jpg')])\n",
    "\n",
    "# Number of frames for each set\n",
    "train_count = 480 \n",
    "val_count = 60     # 30 seconds at 2 FPS = 60 frames\n",
    "test_count = 60  \n",
    "\n",
    "# Output directory structure\n",
    "split_dirs = {\n",
    "    'train': 'Dataset_convey_split/train',\n",
    "    'val': 'Dataset_convey_split/val',\n",
    "    'test': 'Dataset_convey_split/test'\n",
    "}\n",
    "\n",
    "# Create output directories if they don't exist\n",
    "for d in split_dirs.values():\n",
    "    os.makedirs(d, exist_ok=True)\n",
    "\n",
    "# Copy images to appropriate folders\n",
    "for i, img in enumerate(all_images):\n",
    "    src = os.path.join(input_dir, img)\n",
    "    if i < train_count:\n",
    "        dst = os.path.join(split_dirs['train'], img)\n",
    "    elif i < train_count + val_count:\n",
    "        dst = os.path.join(split_dirs['val'], img)\n",
    "    elif i < train_count + val_count + test_count:\n",
    "        dst = os.path.join(split_dirs['test'], img)\n",
    "    else:\n",
    "        break\n",
    "    shutil.copy(src, dst)\n",
    "\n",
    "# Print summary\n",
    "print(\"แบ่งชุดข้อมูลเสร็จแล้ว:\")  # \"Dataset splitting finished:\"\n",
    "print(f\"- train: {train_count} ภาพ\")  # \"- train: 480 images\"\n",
    "print(f\"- val: {val_count} ภาพ\")      # \"- val: 60 images\"\n",
    "print(f\"- test: {test_count} ภาพ\")     # \"- test: 60 images\""
   ]
  },
  {
   "cell_type": "code",
   "execution_count": 3,
   "metadata": {},
   "outputs": [
    {
     "name": "stdout",
     "output_type": "stream",
     "text": [
      "FPS: 29.99700129943691\n",
      "Resolution: 960x540\n"
     ]
    }
   ],
   "source": [
    "import cv2\n",
    "\n",
    "cap = cv2.VideoCapture(\"video_convey.mp4\")\n",
    "\n",
    "fps = cap.get(cv2.CAP_PROP_FPS)\n",
    "width = int(cap.get(cv2.CAP_PROP_FRAME_WIDTH))\n",
    "height = int(cap.get(cv2.CAP_PROP_FRAME_HEIGHT))\n",
    "\n",
    "print(f\"FPS: {fps}\")\n",
    "print(f\"Resolution: {height}x{width}\")\n",
    "cap.release()"
   ]
  },
  {
   "cell_type": "code",
   "execution_count": null,
   "metadata": {},
   "outputs": [],
   "source": []
  }
 ],
 "metadata": {
  "kernelspec": {
   "display_name": "sam2",
   "language": "python",
   "name": "python3"
  },
  "language_info": {
   "codemirror_mode": {
    "name": "ipython",
    "version": 3
   },
   "file_extension": ".py",
   "mimetype": "text/x-python",
   "name": "python",
   "nbconvert_exporter": "python",
   "pygments_lexer": "ipython3",
   "version": "3.12.2"
  }
 },
 "nbformat": 4,
 "nbformat_minor": 2
}
